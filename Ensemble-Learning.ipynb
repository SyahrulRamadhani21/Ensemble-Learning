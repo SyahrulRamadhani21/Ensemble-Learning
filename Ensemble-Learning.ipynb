{
  "cells": [
    {
      "cell_type": "markdown",
      "metadata": {
        "id": "HdKEQ38EVlhO"
      },
      "source": [
        "### **Studi Kasus**\n",
        "Kumpulan data yang akan gunakan untuk studi kasus ini dikenal sebagai kumpulan data Kanker Payudara Wisconsin. \n",
        "Tugas yang terkait dengannya adalah Klasifikasi. Dataset berisi total 10 fitur yang diberi label dalam kelas jinak atau ganas. \n",
        "Fitur memiliki 699 contoh di mana 16 nilai fitur tidak ada. Dataset hanya berisi nilai numerik.\n",
        "Kita akan mengimplementasikan Ensemble menggunakan perpustakaan scikit-learn yang hebat.\n"
      ]
    },
    {
      "cell_type": "markdown",
      "metadata": {
        "id": "ha3ZF4Kd6dhO"
      },
      "source": [
        "Langkah Pertama adalah menginstall dependency dan import library"
      ]
    },
    {
      "cell_type": "code",
      "execution_count": null,
      "metadata": {
        "colab": {
          "base_uri": "https://localhost:8080/"
        },
        "id": "co_MA8sJKNwn",
        "outputId": "d4ccbf1a-4aad-474d-f84c-e9d7b1106b32"
      },
      "outputs": [
        {
          "name": "stdout",
          "output_type": "stream",
          "text": [
            "Looking in indexes: https://pypi.org/simple, https://us-python.pkg.dev/colab-wheels/public/simple/\n",
            "Requirement already satisfied: scikit-learn in /usr/local/lib/python3.7/dist-packages (1.0.2)\n",
            "Requirement already satisfied: joblib>=0.11 in /usr/local/lib/python3.7/dist-packages (from scikit-learn) (1.1.0)\n",
            "Requirement already satisfied: numpy>=1.14.6 in /usr/local/lib/python3.7/dist-packages (from scikit-learn) (1.21.6)\n",
            "Requirement already satisfied: threadpoolctl>=2.0.0 in /usr/local/lib/python3.7/dist-packages (from scikit-learn) (3.1.0)\n",
            "Requirement already satisfied: scipy>=1.1.0 in /usr/local/lib/python3.7/dist-packages (from scikit-learn) (1.4.1)\n"
          ]
        }
      ],
      "source": [
        "pip install --exists-action=i scikit-learn"
      ]
    },
    {
      "cell_type": "code",
      "execution_count": null,
      "metadata": {
        "id": "UlWODHoZJhlU"
      },
      "outputs": [],
      "source": [
        "import pandas as pd\n",
        "import numpy as np\n",
        "from sklearn.impute import SimpleImputer\n",
        "from sklearn.preprocessing import MinMaxScaler"
      ]
    },
    {
      "cell_type": "markdown",
      "metadata": {
        "id": "lZoaBlFE6kQv"
      },
      "source": [
        "Kemudian kita Load dataset, dan coba apakah dataset sudah bisa diakses atau belum"
      ]
    },
    {
      "cell_type": "code",
      "execution_count": null,
      "metadata": {
        "colab": {
          "base_uri": "https://localhost:8080/",
          "height": 250
        },
        "id": "pp0xvP-lD_rp",
        "outputId": "98786705-89fc-49fc-8080-0b8737a01910"
      },
      "outputs": [
        {
          "data": {
            "text/html": [
              "\n",
              "  <div id=\"df-ce3dfe7f-c66a-4cc4-ab88-ba514de0c908\">\n",
              "    <div class=\"colab-df-container\">\n",
              "      <div>\n",
              "<style scoped>\n",
              "    .dataframe tbody tr th:only-of-type {\n",
              "        vertical-align: middle;\n",
              "    }\n",
              "\n",
              "    .dataframe tbody tr th {\n",
              "        vertical-align: top;\n",
              "    }\n",
              "\n",
              "    .dataframe thead th {\n",
              "        text-align: right;\n",
              "    }\n",
              "</style>\n",
              "<table border=\"1\" class=\"dataframe\">\n",
              "  <thead>\n",
              "    <tr style=\"text-align: right;\">\n",
              "      <th></th>\n",
              "      <th>Clump Thickness</th>\n",
              "      <th>Uniformity of Cell Size</th>\n",
              "      <th>Uniformity of Cell Shape</th>\n",
              "      <th>Marginal Adhesion</th>\n",
              "      <th>Single Epithelial Cell Size</th>\n",
              "      <th>Bare Nuclei</th>\n",
              "      <th>Bland Chromatin</th>\n",
              "      <th>Normal Nucleoli</th>\n",
              "      <th>Mitoses</th>\n",
              "      <th>Class</th>\n",
              "    </tr>\n",
              "  </thead>\n",
              "  <tbody>\n",
              "    <tr>\n",
              "      <th>0</th>\n",
              "      <td>5</td>\n",
              "      <td>1</td>\n",
              "      <td>1</td>\n",
              "      <td>1</td>\n",
              "      <td>2</td>\n",
              "      <td>1</td>\n",
              "      <td>3</td>\n",
              "      <td>1</td>\n",
              "      <td>1</td>\n",
              "      <td>2</td>\n",
              "    </tr>\n",
              "    <tr>\n",
              "      <th>1</th>\n",
              "      <td>5</td>\n",
              "      <td>4</td>\n",
              "      <td>4</td>\n",
              "      <td>5</td>\n",
              "      <td>7</td>\n",
              "      <td>10</td>\n",
              "      <td>3</td>\n",
              "      <td>2</td>\n",
              "      <td>1</td>\n",
              "      <td>2</td>\n",
              "    </tr>\n",
              "    <tr>\n",
              "      <th>2</th>\n",
              "      <td>3</td>\n",
              "      <td>1</td>\n",
              "      <td>1</td>\n",
              "      <td>1</td>\n",
              "      <td>2</td>\n",
              "      <td>2</td>\n",
              "      <td>3</td>\n",
              "      <td>1</td>\n",
              "      <td>1</td>\n",
              "      <td>2</td>\n",
              "    </tr>\n",
              "    <tr>\n",
              "      <th>3</th>\n",
              "      <td>6</td>\n",
              "      <td>8</td>\n",
              "      <td>8</td>\n",
              "      <td>1</td>\n",
              "      <td>3</td>\n",
              "      <td>4</td>\n",
              "      <td>3</td>\n",
              "      <td>7</td>\n",
              "      <td>1</td>\n",
              "      <td>2</td>\n",
              "    </tr>\n",
              "    <tr>\n",
              "      <th>4</th>\n",
              "      <td>4</td>\n",
              "      <td>1</td>\n",
              "      <td>1</td>\n",
              "      <td>3</td>\n",
              "      <td>2</td>\n",
              "      <td>1</td>\n",
              "      <td>3</td>\n",
              "      <td>1</td>\n",
              "      <td>1</td>\n",
              "      <td>2</td>\n",
              "    </tr>\n",
              "  </tbody>\n",
              "</table>\n",
              "</div>\n",
              "      <button class=\"colab-df-convert\" onclick=\"convertToInteractive('df-ce3dfe7f-c66a-4cc4-ab88-ba514de0c908')\"\n",
              "              title=\"Convert this dataframe to an interactive table.\"\n",
              "              style=\"display:none;\">\n",
              "        \n",
              "  <svg xmlns=\"http://www.w3.org/2000/svg\" height=\"24px\"viewBox=\"0 0 24 24\"\n",
              "       width=\"24px\">\n",
              "    <path d=\"M0 0h24v24H0V0z\" fill=\"none\"/>\n",
              "    <path d=\"M18.56 5.44l.94 2.06.94-2.06 2.06-.94-2.06-.94-.94-2.06-.94 2.06-2.06.94zm-11 1L8.5 8.5l.94-2.06 2.06-.94-2.06-.94L8.5 2.5l-.94 2.06-2.06.94zm10 10l.94 2.06.94-2.06 2.06-.94-2.06-.94-.94-2.06-.94 2.06-2.06.94z\"/><path d=\"M17.41 7.96l-1.37-1.37c-.4-.4-.92-.59-1.43-.59-.52 0-1.04.2-1.43.59L10.3 9.45l-7.72 7.72c-.78.78-.78 2.05 0 2.83L4 21.41c.39.39.9.59 1.41.59.51 0 1.02-.2 1.41-.59l7.78-7.78 2.81-2.81c.8-.78.8-2.07 0-2.86zM5.41 20L4 18.59l7.72-7.72 1.47 1.35L5.41 20z\"/>\n",
              "  </svg>\n",
              "      </button>\n",
              "      \n",
              "  <style>\n",
              "    .colab-df-container {\n",
              "      display:flex;\n",
              "      flex-wrap:wrap;\n",
              "      gap: 12px;\n",
              "    }\n",
              "\n",
              "    .colab-df-convert {\n",
              "      background-color: #E8F0FE;\n",
              "      border: none;\n",
              "      border-radius: 50%;\n",
              "      cursor: pointer;\n",
              "      display: none;\n",
              "      fill: #1967D2;\n",
              "      height: 32px;\n",
              "      padding: 0 0 0 0;\n",
              "      width: 32px;\n",
              "    }\n",
              "\n",
              "    .colab-df-convert:hover {\n",
              "      background-color: #E2EBFA;\n",
              "      box-shadow: 0px 1px 2px rgba(60, 64, 67, 0.3), 0px 1px 3px 1px rgba(60, 64, 67, 0.15);\n",
              "      fill: #174EA6;\n",
              "    }\n",
              "\n",
              "    [theme=dark] .colab-df-convert {\n",
              "      background-color: #3B4455;\n",
              "      fill: #D2E3FC;\n",
              "    }\n",
              "\n",
              "    [theme=dark] .colab-df-convert:hover {\n",
              "      background-color: #434B5C;\n",
              "      box-shadow: 0px 1px 3px 1px rgba(0, 0, 0, 0.15);\n",
              "      filter: drop-shadow(0px 1px 2px rgba(0, 0, 0, 0.3));\n",
              "      fill: #FFFFFF;\n",
              "    }\n",
              "  </style>\n",
              "\n",
              "      <script>\n",
              "        const buttonEl =\n",
              "          document.querySelector('#df-ce3dfe7f-c66a-4cc4-ab88-ba514de0c908 button.colab-df-convert');\n",
              "        buttonEl.style.display =\n",
              "          google.colab.kernel.accessAllowed ? 'block' : 'none';\n",
              "\n",
              "        async function convertToInteractive(key) {\n",
              "          const element = document.querySelector('#df-ce3dfe7f-c66a-4cc4-ab88-ba514de0c908');\n",
              "          const dataTable =\n",
              "            await google.colab.kernel.invokeFunction('convertToInteractive',\n",
              "                                                     [key], {});\n",
              "          if (!dataTable) return;\n",
              "\n",
              "          const docLinkHtml = 'Like what you see? Visit the ' +\n",
              "            '<a target=\"_blank\" href=https://colab.research.google.com/notebooks/data_table.ipynb>data table notebook</a>'\n",
              "            + ' to learn more about interactive tables.';\n",
              "          element.innerHTML = '';\n",
              "          dataTable['output_type'] = 'display_data';\n",
              "          await google.colab.output.renderOutput(dataTable, element);\n",
              "          const docLink = document.createElement('div');\n",
              "          docLink.innerHTML = docLinkHtml;\n",
              "          element.appendChild(docLink);\n",
              "        }\n",
              "      </script>\n",
              "    </div>\n",
              "  </div>\n",
              "  "
            ],
            "text/plain": [
              "   Clump Thickness  Uniformity of Cell Size  Uniformity of Cell Shape  \\\n",
              "0                5                        1                         1   \n",
              "1                5                        4                         4   \n",
              "2                3                        1                         1   \n",
              "3                6                        8                         8   \n",
              "4                4                        1                         1   \n",
              "\n",
              "   Marginal Adhesion  Single Epithelial Cell Size Bare Nuclei  \\\n",
              "0                  1                            2           1   \n",
              "1                  5                            7          10   \n",
              "2                  1                            2           2   \n",
              "3                  1                            3           4   \n",
              "4                  3                            2           1   \n",
              "\n",
              "   Bland Chromatin  Normal Nucleoli  Mitoses  Class  \n",
              "0                3                1        1      2  \n",
              "1                3                2        1      2  \n",
              "2                3                1        1      2  \n",
              "3                3                7        1      2  \n",
              "4                3                1        1      2  "
            ]
          },
          "execution_count": 20,
          "metadata": {},
          "output_type": "execute_result"
        }
      ],
      "source": [
        "data = pd.read_excel('https://github.com/SyahrulRamadhani21/Ensemble-Learning/blob/main/cancer.xlsx?raw=true', sheet_name='breast-cancer-wisconsin(1)')\n",
        "data.head()"
      ]
    },
    {
      "cell_type": "markdown",
      "metadata": {
        "id": "6ochk8bR6tSs"
      },
      "source": [
        "Selanjutnya mari kita melihat statistik dari data dengan fungsi describe() dan info() "
      ]
    },
    {
      "cell_type": "code",
      "execution_count": null,
      "metadata": {
        "colab": {
          "base_uri": "https://localhost:8080/"
        },
        "id": "nNA4n9-E6pEk",
        "outputId": "6174c3a6-c878-49c5-ae7d-e60970d0d4e1"
      },
      "outputs": [
        {
          "name": "stdout",
          "output_type": "stream",
          "text": [
            "<class 'pandas.core.frame.DataFrame'>\n",
            "RangeIndex: 699 entries, 0 to 698\n",
            "Data columns (total 10 columns):\n",
            " #   Column                       Non-Null Count  Dtype \n",
            "---  ------                       --------------  ----- \n",
            " 0   Clump Thickness              699 non-null    int64 \n",
            " 1   Uniformity of Cell Size      699 non-null    int64 \n",
            " 2   Uniformity of Cell Shape     699 non-null    int64 \n",
            " 3   Marginal Adhesion            699 non-null    int64 \n",
            " 4   Single Epithelial Cell Size  699 non-null    int64 \n",
            " 5   Bare Nuclei                  699 non-null    object\n",
            " 6   Bland Chromatin              699 non-null    int64 \n",
            " 7   Normal Nucleoli              699 non-null    int64 \n",
            " 8   Mitoses                      699 non-null    int64 \n",
            " 9   Class                        699 non-null    int64 \n",
            "dtypes: int64(9), object(1)\n",
            "memory usage: 54.7+ KB\n"
          ]
        }
      ],
      "source": [
        "data.describe()\n",
        "data.info()"
      ]
    },
    {
      "cell_type": "markdown",
      "metadata": {
        "id": "tLz9cWru617O"
      },
      "source": [
        "Seperti disebutkan sebelumnya, dataset berisi nilai yang hilang. Kolom bernama \"Bare Nuclei\" berisi mereka. Mari kita verifikasi."
      ]
    },
    {
      "cell_type": "code",
      "execution_count": null,
      "metadata": {
        "colab": {
          "base_uri": "https://localhost:8080/"
        },
        "id": "ilTFpCZB62hW",
        "outputId": "f6a6ee65-5084-4fdd-d01f-c001ab1b34a8"
      },
      "outputs": [
        {
          "data": {
            "text/plain": [
              "0       1\n",
              "1      10\n",
              "2       2\n",
              "3       4\n",
              "4       1\n",
              "       ..\n",
              "694     2\n",
              "695     1\n",
              "696     3\n",
              "697     4\n",
              "698     5\n",
              "Name: Bare Nuclei, Length: 699, dtype: object"
            ]
          },
          "execution_count": 22,
          "metadata": {},
          "output_type": "execute_result"
        }
      ],
      "source": [
        "data['Bare Nuclei']"
      ]
    },
    {
      "cell_type": "markdown",
      "metadata": {
        "id": "_xcdxTpA63kB"
      },
      "source": [
        "Kita dapat melihat beberapa \"?\" ada di dalamnya, kan? Nah, ini adalah nilai-nilai data yang hilang, dan Kita akan menghubungkannya dengan Mean Imputation. Tapi pertama-tama, Kita akan mengganti \"?\" itu dengan 0."
      ]
    },
    {
      "cell_type": "code",
      "execution_count": null,
      "metadata": {
        "colab": {
          "base_uri": "https://localhost:8080/"
        },
        "id": "B1YNxSam65iU",
        "outputId": "be686fbb-2af1-48cf-ee80-4cf9b0b7c4df"
      },
      "outputs": [
        {
          "data": {
            "text/plain": [
              "0       1\n",
              "1      10\n",
              "2       2\n",
              "3       4\n",
              "4       1\n",
              "       ..\n",
              "694     2\n",
              "695     1\n",
              "696     3\n",
              "697     4\n",
              "698     5\n",
              "Name: Bare Nuclei, Length: 699, dtype: object"
            ]
          },
          "execution_count": 23,
          "metadata": {},
          "output_type": "execute_result"
        }
      ],
      "source": [
        "data.replace('?',0, inplace=True)\n",
        "data['Bare Nuclei']"
      ]
    },
    {
      "cell_type": "markdown",
      "metadata": {
        "id": "-vptnPRo69nv"
      },
      "source": [
        "\"?\" diganti dengan 0 sekarang. Mari kita lakukan pengobatan nilai yang hilang sekarang."
      ]
    },
    {
      "cell_type": "code",
      "execution_count": null,
      "metadata": {
        "id": "x2iGd7Tx6-EU"
      },
      "outputs": [],
      "source": [
        "# Convert the DataFrame object into NumPy array otherwise you will not be able to impute\n",
        "values = data.values\n",
        "\n",
        "# Now impute it\n",
        "imputer = SimpleImputer()\n",
        "imputedData = imputer.fit_transform(values)"
      ]
    },
    {
      "cell_type": "markdown",
      "metadata": {
        "id": "_FGq4sps7CVk"
      },
      "source": [
        "Sekarang jika Kita melihat dataset itu sendiri, Kita akan melihat bahwa semua rentang fitur dari dataset tidak sama. Ini dapat menyebabkan masalah. Perubahan kecil pada fitur mungkin tidak memengaruhi fitur lainnya. Untuk mengatasi masalah ini, Kita akan menormalkan rentang fitur ke rentang yang seragam, dalam hal ini, 0 - 1."
      ]
    },
    {
      "cell_type": "code",
      "execution_count": null,
      "metadata": {
        "id": "32yYS2e97EhZ"
      },
      "outputs": [],
      "source": [
        "scaler = MinMaxScaler(feature_range=(0, 1))\n",
        "normalizedData = scaler.fit_transform(imputedData)"
      ]
    },
    {
      "cell_type": "markdown",
      "metadata": {
        "id": "Ozp2Gmkc7KLB"
      },
      "source": [
        "Kita sudah selesai melakukan pemprosesan untuk eksperimen Ensembling Kita."
      ]
    },
    {
      "cell_type": "markdown",
      "metadata": {
        "id": "vQWdI9UC7WA6"
      },
      "source": [
        "\n",
        "\n",
        "---\n",
        "\n",
        "Kita akan mulai dengan Ensembling berbasis Bagging. Dalam hal ini, Kita akan menggunakan Pohon Keputusan yang Dikantongi."
      ]
    },
    {
      "cell_type": "code",
      "execution_count": null,
      "metadata": {
        "id": "n52x3zmH7Fxb"
      },
      "outputs": [],
      "source": [
        "# Bagged Decision Trees for Classification - necessary dependencies\n",
        "\n",
        "from sklearn import model_selection\n",
        "from sklearn.ensemble import BaggingClassifier\n",
        "from sklearn.tree import DecisionTreeClassifier"
      ]
    },
    {
      "cell_type": "markdown",
      "metadata": {
        "id": "YX0o274s7Z8V"
      },
      "source": [
        "Kita telah mengimpor dependensi untuk Bagged Decision Trees."
      ]
    },
    {
      "cell_type": "code",
      "execution_count": null,
      "metadata": {
        "id": "lqTvWdlE7bWQ"
      },
      "outputs": [],
      "source": [
        "# Segregate the features from the labels\n",
        "X = normalizedData[:,0:9]\n",
        "Y = normalizedData[:,9]"
      ]
    },
    {
      "cell_type": "code",
      "execution_count": null,
      "metadata": {
        "colab": {
          "base_uri": "https://localhost:8080/"
        },
        "id": "mEKNNMs27eBt",
        "outputId": "38add3f2-c3ae-4d6f-f9f8-f40e679152b8"
      },
      "outputs": [
        {
          "name": "stdout",
          "output_type": "stream",
          "text": [
            "0.9584886128364388\n"
          ]
        }
      ],
      "source": [
        "kfold = model_selection.KFold(n_splits=10, random_state=7, shuffle=True)\n",
        "cart = DecisionTreeClassifier()\n",
        "num_trees = 100\n",
        "model = BaggingClassifier(base_estimator=cart, n_estimators=num_trees, random_state=7)\n",
        "results = model_selection.cross_val_score(model, X, Y, cv=kfold)\n",
        "print(results.mean())"
      ]
    },
    {
      "cell_type": "markdown",
      "metadata": {
        "id": "jr8H9LGe7gS5"
      },
      "source": [
        "Pertama, Kita menginisialisasi lipatan validasi silang 10 kali lipat. Setelah itu, Kita membuat instance Decision Tree Classifier dengan 100 pohon dan membungkusnya dalam Ensemble berbasis Bagging. Kemudian Kita mengevaluasi model Kita.\n",
        "\n",
        "Model kita tampil cukup baik. Ini menghasilkan akurasi 95,84%."
      ]
    },
    {
      "cell_type": "code",
      "execution_count": null,
      "metadata": {
        "colab": {
          "base_uri": "https://localhost:8080/"
        },
        "id": "yxutFeUm7g6S",
        "outputId": "1ac46134-d57e-4d9f-8d13-90f90dc999bb"
      },
      "outputs": [
        {
          "name": "stdout",
          "output_type": "stream",
          "text": [
            "0.9599378881987578\n"
          ]
        }
      ],
      "source": [
        "# AdaBoost Classification\n",
        "\n",
        "from sklearn.ensemble import AdaBoostClassifier\n",
        "seed = 7\n",
        "num_trees = 70\n",
        "kfold = model_selection.KFold(n_splits=10, random_state=seed,shuffle=True)\n",
        "model = AdaBoostClassifier(n_estimators=num_trees, random_state=seed)\n",
        "results = model_selection.cross_val_score(model, X, Y, cv=kfold)\n",
        "print(results.mean())"
      ]
    },
    {
      "cell_type": "markdown",
      "metadata": {
        "id": "yFvHvdXE7kvP"
      },
      "source": [
        "Dalam hal ini, Anda melakukan klasifikasi AdaBoost (dengan 70 pohon) yang didasarkan pada jenis Ensembling Boosting. Model ini memberi Anda akurasi 95,99% untuk validasi silang 10 kali lipat."
      ]
    },
    {
      "cell_type": "markdown",
      "metadata": {
        "id": "bdG70qps7lrt"
      },
      "source": [
        "\n",
        "\n",
        "---\n",
        "Terakhir, saatnya Anda menerapkan teknik Ensemble berbasis Voting.\n"
      ]
    },
    {
      "cell_type": "code",
      "execution_count": null,
      "metadata": {
        "colab": {
          "base_uri": "https://localhost:8080/"
        },
        "id": "bhpOs-9H7lKR",
        "outputId": "92ae830b-5d8d-48f3-dee6-316f24d53800"
      },
      "outputs": [
        {
          "name": "stdout",
          "output_type": "stream",
          "text": [
            "0.9642028985507245\n"
          ]
        }
      ],
      "source": [
        "# Voting Ensemble for Classification\n",
        "\n",
        "from sklearn.linear_model import LogisticRegression\n",
        "from sklearn.tree import DecisionTreeClassifier\n",
        "from sklearn.svm import SVC\n",
        "from sklearn.ensemble import VotingClassifier\n",
        "\n",
        "kfold = model_selection.KFold(n_splits=10, random_state=seed,shuffle=True)\n",
        "# create the sub models\n",
        "estimators = []\n",
        "model1 = LogisticRegression()\n",
        "estimators.append(('logistic', model1))\n",
        "model2 = DecisionTreeClassifier()\n",
        "estimators.append(('cart', model2))\n",
        "model3 = SVC()\n",
        "estimators.append(('svm', model3))\n",
        "# create the ensemble model\n",
        "ensemble = VotingClassifier(estimators)\n",
        "results = model_selection.cross_val_score(ensemble, X, Y, cv=kfold)\n",
        "print(results.mean())"
      ]
    },
    {
      "cell_type": "markdown",
      "metadata": {
        "id": "PS1ybmqfQSS0"
      },
      "source": [
        "Kita menerapkan model Ensemble berbasis Voting di mana Kita menggunakan Regresi Logistik, Pohon Keputusan, dan Mesin Vektor Dukungan untuk tujuan pemungutan suara. Model melakukan yang terbaik sejauh ini dengan akurasi 96,42% untuk validasi silang 10 kali lipat."
      ]
    }
  ],
  "metadata": {
    "colab": {
      "name": "Quiz 14 Pengantar Kecerdasan Buatan-Syahrul Ramadhani (1301218584).ipynb",
      "provenance": []
    },
    "kernelspec": {
      "display_name": "Python 3",
      "name": "python3"
    },
    "language_info": {
      "name": "python"
    }
  },
  "nbformat": 4,
  "nbformat_minor": 0
}
